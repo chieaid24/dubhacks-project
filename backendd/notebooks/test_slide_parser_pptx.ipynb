{
 "cells": [
  {
   "cell_type": "code",
   "execution_count": 6,
   "id": "59e62fea-0331-4f00-bdd5-ff89abe03d32",
   "metadata": {
    "execution": {
     "iopub.execute_input": "2025-10-18T22:29:55.497272Z",
     "iopub.status.busy": "2025-10-18T22:29:55.496988Z",
     "iopub.status.idle": "2025-10-18T22:29:55.500557Z",
     "shell.execute_reply": "2025-10-18T22:29:55.499838Z",
     "shell.execute_reply.started": "2025-10-18T22:29:55.497252Z"
    }
   },
   "outputs": [],
   "source": [
    "import sys\n",
    "import os"
   ]
  },
  {
   "cell_type": "code",
   "execution_count": 7,
   "id": "ce163baa-7a70-4539-b5bf-e8bde7dc9333",
   "metadata": {
    "execution": {
     "iopub.execute_input": "2025-10-18T22:29:55.807280Z",
     "iopub.status.busy": "2025-10-18T22:29:55.806997Z",
     "iopub.status.idle": "2025-10-18T22:29:55.810774Z",
     "shell.execute_reply": "2025-10-18T22:29:55.810009Z",
     "shell.execute_reply.started": "2025-10-18T22:29:55.807259Z"
    }
   },
   "outputs": [],
   "source": [
    "# Add project root to sys.path so we can import backend modules\n",
    "project_root = os.path.abspath(\"..\")\n",
    "if project_root not in sys.path:\n",
    "    sys.path.append(project_root)\n",
    "\n",
    "from backend.services.slide_parser import parse_file, save_parsed_output"
   ]
  },
  {
   "cell_type": "code",
   "execution_count": 8,
   "id": "30f8e948-b136-4abd-aab7-7a99a2215e10",
   "metadata": {
    "execution": {
     "iopub.execute_input": "2025-10-18T22:29:56.055718Z",
     "iopub.status.busy": "2025-10-18T22:29:56.055306Z",
     "iopub.status.idle": "2025-10-18T22:29:56.177441Z",
     "shell.execute_reply": "2025-10-18T22:29:56.176627Z",
     "shell.execute_reply.started": "2025-10-18T22:29:56.055692Z"
    }
   },
   "outputs": [],
   "source": [
    "# Test a sample file\n",
    "sample_file = os.path.join(project_root, \"data/sample_slides_cse332.pdf\")\n",
    "parsed_data = parse_file(sample_file)"
   ]
  },
  {
   "cell_type": "code",
   "execution_count": 9,
   "id": "22094ea6-26b2-4b9c-8fa4-8685c7a0e8f6",
   "metadata": {
    "execution": {
     "iopub.execute_input": "2025-10-18T22:29:56.326407Z",
     "iopub.status.busy": "2025-10-18T22:29:56.326149Z",
     "iopub.status.idle": "2025-10-18T22:29:56.330613Z",
     "shell.execute_reply": "2025-10-18T22:29:56.329601Z",
     "shell.execute_reply.started": "2025-10-18T22:29:56.326387Z"
    }
   },
   "outputs": [
    {
     "name": "stdout",
     "output_type": "stream",
     "text": [
      "Slide 1 content:\n",
      "CSE 332: Data Structures & Parallelism\n",
      "Lecture 6: Amortization\n",
      "Ruth Anderson\n",
      "Autumn 2025\n",
      "10/03/2025 1\n",
      "---\n",
      "Slide 2 content:\n",
      "Administrative\n",
      "•EX0 –Closes tonight\n",
      "•EX01 –Due TONIGHT, Monday 10/06\n",
      "•EX02 –On Priority Queues, Due Friday Oct 10\n",
      "•EX03 –On Recurrences, coming soon!\n",
      "•“Meet the Staff” activity\n",
      "•Sometime during the first 4 weeks of class, visit a CSE 332 office \n",
      "hour (in person or on zoom)\n",
      "•Lecture MegaThread in Ed Discussion\n",
      "10/03/2025 2\n",
      "---\n",
      "Slide 3 content:\n",
      "Today\n",
      "•Finish Binary Min Heap implementation (Slides from Friday)\n",
      "•Buildheap\n",
      "•Amortization\n",
      "•Recurrences\n",
      "10/03/2025 3\n",
      "---\n",
      "Slide 4 content:\n",
      "Amortization\n",
      "•How much does housing cost per day in Seattle?\n",
      "•Well, it depends on the day.\n",
      "•The day rent is due, it’s $1800.\n",
      "•The other days of the month it’s free. \n",
      "4 10/03/2025\n",
      "---\n",
      "Slide 5 content:\n",
      "Amortization\n",
      "•Amortization is an accounting analysis. It’s a way to reflect the fact \n",
      "that even though the “first of the month” is very expensive, the \n",
      "reason that it’s very expensive is that it’s taking on responsibility for all the other days.\n",
      "•If we distributed the cost equally across the days, (because all days \n",
      "should be equally responsible), we “amortize” the cost.\n",
      "5 10/03/2025\n",
      "---\n",
      "Slide 6 content:\n",
      "Amortization\n",
      "AMORTIZED\n",
      "6•It costs $1800/month (which we \n",
      "pay once)\n",
      "•So the cost per day is 1800\n",
      "30=60.\n",
      "•Good answer if the question is “what does my daily pay need to \n",
      "be to afford housing?“UNAMORTIZED\n",
      "•On the first it costs $1800.\n",
      "•Every other day of the month it costs $0\n",
      "•Good answer if the question is “how much do I need to keep in \n",
      "my bank account so it doesn’t get \n",
      "overdrawn?”\n",
      "10/03/2025\n",
      "---\n",
      "Slide 7 content:\n",
      "Amortization\n",
      "•What’s the worst case for enqueue into an array -based queue?\n",
      "•The running time is 𝑂𝑂(𝑛𝑛)when we need to resize, and 𝑂𝑂(1)otherwise.\n",
      "•Is 𝑂𝑂(𝑛𝑛)a good description of the worst -case behavior? \n",
      "•Imagine you said:\n",
      "“In the worst -case, rent costs $1800 per day. There are 30 days this month, \n",
      "so I need to set aside 30⋅1800 =$54,000 in my budget; that’s the worst -\n",
      "case for the month” \n",
      "•Or you said on Apr. 30, “rent costs $60/day, it’s fine that I have only $70 in my bank account”\n",
      "•Both of these are silly!\n",
      "7 10/03/2025\n",
      "---\n",
      "Slide 8 content:\n",
      "Amortization\n",
      "AMORTIZED\n",
      "8•It takes 𝑂𝑂(𝑛𝑛)time to resize once, \n",
      "the next 𝑛𝑛 −1calls take 𝑂𝑂 (1)\n",
      "time each.\n",
      "•So the cost per operation is \n",
      "𝑂𝑂𝑛𝑛+[𝑛𝑛−1]𝑂𝑂(1)\n",
      "𝑛𝑛=𝑂𝑂(1)\n",
      "•Good answer if the question is \n",
      "“what will happen when I do \n",
      "many insertions in a row?“UNAMORTIZED\n",
      "•The resize will take 𝑂𝑂(𝑛𝑛)time. \n",
      "That’s the worst thing that could happen.\n",
      "•Good answer if the question is \n",
      "“how long might one (unlucky) \n",
      "user need to wait on a single \n",
      "insertion?”\n",
      "10/03/2025\n",
      "---\n",
      "Slide 9 content:\n",
      "Amortization\n",
      "•Why do we double? Why not increase the size by 1 each time we fill \n",
      "up?\n",
      "9 10/03/2025\n",
      "---\n",
      "Slide 10 content:\n",
      "Amortization vs. Average- Case\n",
      "•Amortization and “average/best/worst” case are independent properties \n",
      "(you can have un -amortized average- case, or amortized worst -case, or un-\n",
      "amortized worst- case, or …). \n",
      "•Average case asks: “if I selected a possible input on random, how long would my code take?” (compare to worst -case: “if I select the worst \n",
      "value…”)\n",
      "•Amortized or not is “do we care about how much our bank account changes on one day or over the entire month?” (do we care about the \n",
      "running time of individual calls or only what happens over a sequence of them?)\n",
      "10 10/03/2025\n",
      "---\n",
      "Slide 11 content:\n",
      "Why use (or don’t use) amortized analysis?\n",
      "•The appropriate analysis depends on your situation (and often it’s worth \n",
      "knowing both).\n",
      "•A common use of data structures is as part of an algorithm.\n",
      "•E.g., I’m trying to process everything in a data set, I insert everything into the data \n",
      "structure, remove them one at a time. \n",
      "•In that case, we almost always want amortized analysis (we care about when the full analysis is done, not when we go from 49% done to 50% done). \n",
      "•But sometimes you care about individual calls\n",
      "•Your data structure is feeding another process that the user is watching in real -\n",
      "time. Worst Case Amortized Unamortized\n",
      "Enqueue (circular array) Θ(1) Θ(𝑛𝑛)\n",
      "---\n",
      "Slide 12 content:\n",
      "Reminder: 𝑂𝑂,Ω,Θvs. Best, Worst, Average\n",
      "•It’s a common misconception that Ω ()is “best -case” and 𝑂𝑂() is \n",
      "“worst -case”. This is a misconception!!\n",
      "•𝑂𝑂()says “the complexity of this algorithm is at most” (think ≤)\n",
      "•Ω()says “the complexity of this algorithm is at least” (think ≥)\n",
      "•You can use ≤on worst -case or best case; you can use ≥on worst -\n",
      "case or best -case.\n",
      "•Best/Worst/Average say “what function 𝑓𝑓am I analyzing?”\n",
      "•𝑂𝑂,Ω,Θsay “let me summarize what I know about 𝑓𝑓, it’s ≤,≥,=…”\n",
      "12\n",
      "---\n"
     ]
    }
   ],
   "source": [
    "# Preview parsed slides\n",
    "for page in parsed_data:\n",
    "    print(f\"Slide {page['page_number']} content:\\n{page['content']}\\n---\")"
   ]
  },
  {
   "cell_type": "code",
   "execution_count": 10,
   "id": "072b3536-fdc9-41b0-bb82-6203eee747ab",
   "metadata": {
    "execution": {
     "iopub.execute_input": "2025-10-18T22:29:56.927896Z",
     "iopub.status.busy": "2025-10-18T22:29:56.927468Z",
     "iopub.status.idle": "2025-10-18T22:29:56.931961Z",
     "shell.execute_reply": "2025-10-18T22:29:56.931088Z",
     "shell.execute_reply.started": "2025-10-18T22:29:56.927874Z"
    }
   },
   "outputs": [
    {
     "name": "stdout",
     "output_type": "stream",
     "text": [
      "Saved parsed data to: /home/sagemaker-user/bedtime-lecturer/outputs/sample_slides_pptx_parsed.json\n"
     ]
    }
   ],
   "source": [
    "# Save output as JSON\n",
    "output_file = os.path.join(project_root, \"outputs/sample_slides_pptx_parsed.json\")\n",
    "save_parsed_output(parsed_data, output_file)\n",
    "print(f\"Saved parsed data to: {output_file}\")"
   ]
  },
  {
   "cell_type": "code",
   "execution_count": null,
   "id": "ea395a48-5446-4c46-a381-2486a91d5abd",
   "metadata": {},
   "outputs": [],
   "source": []
  }
 ],
 "metadata": {
  "kernelspec": {
   "display_name": "Python 3 (ipykernel)",
   "language": "python",
   "name": "python3"
  },
  "language_info": {
   "codemirror_mode": {
    "name": "ipython",
    "version": 3
   },
   "file_extension": ".py",
   "mimetype": "text/x-python",
   "name": "python",
   "nbconvert_exporter": "python",
   "pygments_lexer": "ipython3",
   "version": "3.12.9"
  }
 },
 "nbformat": 4,
 "nbformat_minor": 5
}
