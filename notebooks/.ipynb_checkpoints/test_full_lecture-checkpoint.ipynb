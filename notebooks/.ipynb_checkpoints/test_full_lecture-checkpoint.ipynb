{
 "cells": [
  {
   "cell_type": "code",
   "execution_count": null,
   "id": "2e8d733c-98ae-482a-9ef8-cbde2e1647ac",
   "metadata": {},
   "outputs": [],
   "source": [
    "import os\n",
    "import sys\n",
    "import json\n",
    "from dotenv import load_dotenv\n",
    "from IPython.display import Audio, display\n",
    "\n",
    "# Add project root to sys.path so we can import backend modules\n",
    "project_root = os.path.abspath(\"..\")\n",
    "if project_root not in sys.path:\n",
    "    sys.path.append(project_root)\n",
    "\n",
    "# Import your existing service modules\n",
    "from backend.services.slide_parser import parse_file, save_parsed_output\n",
    "from backend.services.gemini_api import generate_lecture_from_json\n",
    "from backend.services.eleven_api import tts_eleven, save_tts_audio\n",
    "\n",
    "from pptx import Presentation"
   ]
  },
  {
   "cell_type": "code",
   "execution_count": null,
   "id": "f1a109c4-89ea-4ae4-a0f8-ead0cffc6950",
   "metadata": {},
   "outputs": [],
   "source": [
    "# --- Step 1: Parse input slides (.pptx or .pdf) ---\n",
    "input_path = \"../data/sample_slides_short.pptx\" # sample slides with only 3 pages\n",
    "parsed_output_path = \"../outputs/parsed_short.json\""
   ]
  },
  {
   "cell_type": "code",
   "execution_count": null,
   "id": "3905f291-f701-4ec4-8074-d4ad36b7eeac",
   "metadata": {},
   "outputs": [],
   "source": [
    "print(\"🧩 Parsing file...\")\n",
    "parsed_pages = parse_file(input_path)\n",
    "save_parsed_output(parsed_pages, parsed_output_path)\n",
    "print(f\"✅ Parsed {len(parsed_pages)} pages and saved to {parsed_output_path}\\n\")"
   ]
  },
  {
   "cell_type": "code",
   "execution_count": null,
   "id": "61794950-41a0-4d43-8cb8-435cab40927f",
   "metadata": {},
   "outputs": [],
   "source": [
    "# --- Step 2: Generate lecture script using Gemini ---\n",
    "print(\"🧠 Generating lecture text with Gemini...\")\n",
    "lecture_pages = generate_lecture_from_json(parsed_pages)\n",
    "\n",
    "lecture_output_path = \"../outputs/lecture_script_short.json\"\n",
    "with open(lecture_output_path, \"w\") as f:\n",
    "    json.dump(lecture_pages, f, indent=2)\n",
    "print(f\"✅ Lecture script saved to {lecture_output_path}\\n\")"
   ]
  },
  {
   "cell_type": "code",
   "execution_count": null,
   "id": "fd92f2b4-a31c-4224-b16d-43e09a37fc0d",
   "metadata": {},
   "outputs": [],
   "source": [
    "# --- Step 3: Generate and save audio using ElevenLabs ---\n",
    "print(\"🎙️ Generating and saving audio files...\")\n",
    "for page in lecture_pages:\n",
    "    text = page.get(\"lecture_text\", \"\").strip()\n",
    "    if not text:\n",
    "        continue\n",
    "    audio = tts_eleven(text)\n",
    "    audio_path = f\"../outputs/audio/lecture_page_{page['page_number']}.mp3\"\n",
    "    save_tts_audio(audio, audio_path)\n",
    "    print(f\"🎧 Saved audio for slide {page['page_number']} → {audio_path}\")\n",
    "\n",
    "print(\"\\n✅ Full test pipeline complete!\")"
   ]
  },
  {
   "cell_type": "code",
   "execution_count": null,
   "id": "03cafc29-af7f-4575-b158-9c0ee7f8ab70",
   "metadata": {},
   "outputs": [],
   "source": [
    "# --- Step 4: Play each generated audio in order ---\n",
    "print(\"🔊 Playing generated audio sequentially...\\n\")\n",
    "\n",
    "audio_files.sort(key=lambda x: int(x.split(\"_\")[-1].split(\".\")[0]))\n",
    "\n",
    "for file_path in audio_files:\n",
    "    slide_num = os.path.basename(file_path).split(\"_\")[-1].split(\".\")[0]\n",
    "    print(f\"▶️ Now playing slide {slide_num}...\")\n",
    "    playsound(file_path)  # blocks until audio finishes\n",
    "    print(f\"✅ Finished slide {slide_num}\\n\")\n",
    "    time.sleep(1)  # brief pause between slides\n",
    "\n",
    "print(\"🏁 All slides played successfully!\")"
   ]
  },
  {
   "cell_type": "code",
   "execution_count": null,
   "id": "b4f958ff-be76-4365-ac7c-c215556d7400",
   "metadata": {},
   "outputs": [],
   "source": []
  }
 ],
 "metadata": {
  "kernelspec": {
   "display_name": "Python 3 (ipykernel)",
   "language": "python",
   "name": "python3"
  },
  "language_info": {
   "codemirror_mode": {
    "name": "ipython",
    "version": 3
   },
   "file_extension": ".py",
   "mimetype": "text/x-python",
   "name": "python",
   "nbconvert_exporter": "python",
   "pygments_lexer": "ipython3",
   "version": "3.12.9"
  }
 },
 "nbformat": 4,
 "nbformat_minor": 5
}
