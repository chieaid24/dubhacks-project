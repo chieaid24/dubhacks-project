{
 "cells": [
  {
   "cell_type": "code",
   "execution_count": 1,
   "id": "26d4d767-05e6-4025-9183-bdba25fc1091",
   "metadata": {
    "execution": {
     "iopub.execute_input": "2025-10-19T04:41:19.866725Z",
     "iopub.status.busy": "2025-10-19T04:41:19.866473Z",
     "iopub.status.idle": "2025-10-19T04:42:19.972464Z",
     "shell.execute_reply": "2025-10-19T04:42:19.971713Z",
     "shell.execute_reply.started": "2025-10-19T04:41:19.866688Z"
    }
   },
   "outputs": [
    {
     "name": "stdout",
     "output_type": "stream",
     "text": [
      "Status code: 200\n",
      "Response JSON:\n",
      "{'filename': '../data/sample_slides_short.pptx', 'slide_count': 3, 'lecture_pages': [{'page_number': 1, 'lecture_text': \"Alright everyone, let's dive into today's topic for CSE 332: Data Structures & Parallelism. As you can see, this is Lecture 6, and our focus today is **Amortization**.\\n\\nSo far, we've primarily looked at worst-case runtime complexity for *individual* operations. Amortization, however, gives us a different lens. It's about analyzing the *average* cost of an operation over a *sequence* of operations, even if some individual operations in that sequence are quite expensive.\\n\\nThink about a dynamic array like an `ArrayList` in Java or a `std::vector` in C++. Most `add` operations are incredibly fast, O(1), simply appending an element. But occasionally, when the array runs out of space, it needs to be resized – a much more expensive O(N) operation where N is the current size, as we have to allocate a new, larger array and copy all existing elements over. If we only looked at that single resize operation, we'd conclude `add` is O(N) in the worst case.\\n\\nHowever, with amortization, we see that these expensive resizes don't happen very often. Over a long sequence of N `add` operations, the *total* work done, including the resizes, averages out to O(1) per operation. We'll explore the math behind why this holds true today.\"}, {'page_number': 2, 'lecture_text': 'So, moving on from our discussion on [previous topic], let\\'s now delve into **Amortization**. Fundamentally, amortization is an accounting analysis tool. It\\'s a way for us to accurately reflect how expenses are incurred or how assets are consumed over time.\\n\\nThink about a common scenario: the \"first of the month.\" A business might pay a significant expense, like its monthly rent, entirely on January 1st. On paper, that single day appears very expensive. However, the reason it\\'s expensive is that this one payment is taking on responsibility for *all* the other days of the month – it\\'s buying the use of the building for the entire 31-day period.\\n\\nIf we just recorded the full rent on January 1st, it wouldn\\'t accurately represent the daily cost of using the space. To solve this, we \"amortize\" the cost. We distribute that large expense equally across all the days it benefits, because, in essence, all those days are equally responsible for incurring that rent. This gives us a much clearer, more consistent financial picture over the period.'}, {'page_number': 3, 'lecture_text': 'So far, we\\'ve mostly focused on the worst-case running time of a single operation. But sometimes, that simple worst-case can be misleading. This brings us to the concept of **Amortization**.\\n\\nLet\\'s consider an array-based queue. What\\'s the worst-case time for an `enqueue` operation? Most of the time, it\\'s a quick `O(1)` operation – we just add an element. However, if the underlying array is full, we need to resize it. This involves allocating a new, larger array and copying all `n` existing elements over, which takes `O(n)` time.\\n\\nSo, the running time is `O(n)` when we need to resize, and `O(1)` otherwise. Is `O(n)` truly a good description of the worst-case behavior, especially if resizing happens very rarely?\\n\\nTo illustrate why this can be problematic, imagine this scenario:\\nYou say, \"In the worst-case, rent costs $1800 per day.\" This is like taking your monthly rent and attributing it entirely to one day. Based on that, you might budget $54,000 for the month, which is completely silly and an overestimation for the actual daily cost.\\nOr, on April 30th, you say, \"rent costs $60/day, it\\'s fine that I have only $70 in my bank account.\" This ignores the lump sum payment due soon.\\n\\nBoth are silly because they misrepresent the *true cost distribution* over time. Amortization helps us analyze the cost of a sequence of operations more accurately, averaging out those expensive but infrequent events.'}], 'audio_urls': ['/static/audio/slide_1.mp3', '/static/audio/slide_2.mp3', '/static/audio/slide_3.mp3']}\n"
     ]
    }
   ],
   "source": [
    "import requests\n",
    "\n",
    "# URL of your FastAPI endpoint\n",
    "url = \"http://127.0.0.1:8000/upload\"\n",
    "\n",
    "# Path to a local file to test (pptx or pdf)\n",
    "file_path = \"../data/sample_slides_short.pptx\"\n",
    "\n",
    "with open(file_path, \"rb\") as f:\n",
    "    files = {\"file\": (file_path, f, \"application/octet-stream\")}\n",
    "    response = requests.post(url, files=files)\n",
    "\n",
    "# Check status\n",
    "print(\"Status code:\", response.status_code)\n",
    "print(\"Response JSON:\")\n",
    "print(response.json())\n"
   ]
  },
  {
   "cell_type": "code",
   "execution_count": null,
   "id": "e0ff5363-85f4-43c2-8a5f-19387becad69",
   "metadata": {},
   "outputs": [],
   "source": []
  },
  {
   "cell_type": "code",
   "execution_count": null,
   "id": "350ab303-b895-43a7-9e20-2b28e68ec9c3",
   "metadata": {},
   "outputs": [],
   "source": []
  }
 ],
 "metadata": {
  "kernelspec": {
   "display_name": "Python 3 (ipykernel)",
   "language": "python",
   "name": "python3"
  },
  "language_info": {
   "codemirror_mode": {
    "name": "ipython",
    "version": 3
   },
   "file_extension": ".py",
   "mimetype": "text/x-python",
   "name": "python",
   "nbconvert_exporter": "python",
   "pygments_lexer": "ipython3",
   "version": "3.12.9"
  }
 },
 "nbformat": 4,
 "nbformat_minor": 5
}
