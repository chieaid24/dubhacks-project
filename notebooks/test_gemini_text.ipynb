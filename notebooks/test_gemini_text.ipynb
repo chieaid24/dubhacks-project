{
 "cells": [
  {
   "cell_type": "code",
   "execution_count": 1,
   "id": "63fa8a8a-f484-4939-ad7a-d18f24a5598d",
   "metadata": {
    "execution": {
     "iopub.execute_input": "2025-10-19T01:31:05.767835Z",
     "iopub.status.busy": "2025-10-19T01:31:05.766976Z",
     "iopub.status.idle": "2025-10-19T01:31:07.237828Z",
     "shell.execute_reply": "2025-10-19T01:31:07.237019Z",
     "shell.execute_reply.started": "2025-10-19T01:31:05.767800Z"
    }
   },
   "outputs": [
    {
     "name": "stdout",
     "output_type": "stream",
     "text": [
      "GEMINI_API_KEY = True\n"
     ]
    }
   ],
   "source": [
    "import sys\n",
    "import os\n",
    "import json\n",
    "\n",
    "# Adjust the path to your project root\n",
    "project_root = os.path.abspath(\"..\")  # if notebook is inside backend/\n",
    "if project_root not in sys.path:\n",
    "    sys.path.append(project_root)\n",
    "\n",
    "from backend.services.gemini_api import generate_lecture_from_json, save_lecture_output"
   ]
  },
  {
   "cell_type": "code",
   "execution_count": 3,
   "id": "ef5e0d93-4ce9-4be3-a8f0-f916e2d696a6",
   "metadata": {
    "execution": {
     "iopub.execute_input": "2025-10-19T01:31:42.332340Z",
     "iopub.status.busy": "2025-10-19T01:31:42.332018Z",
     "iopub.status.idle": "2025-10-19T01:31:42.336532Z",
     "shell.execute_reply": "2025-10-19T01:31:42.335692Z",
     "shell.execute_reply.started": "2025-10-19T01:31:42.332302Z"
    }
   },
   "outputs": [],
   "source": [
    "with open(\"../outputs/sample_slides_pdf_parsed.json\", \"r\") as f:\n",
    "    parsed_pages = json.load(f)"
   ]
  },
  {
   "cell_type": "code",
   "execution_count": 4,
   "id": "580323db-932d-404f-92f7-9ac2b6a060a8",
   "metadata": {
    "execution": {
     "iopub.execute_input": "2025-10-19T01:31:43.709025Z",
     "iopub.status.busy": "2025-10-19T01:31:43.708743Z",
     "iopub.status.idle": "2025-10-19T01:33:04.155062Z",
     "shell.execute_reply": "2025-10-19T01:33:04.154329Z",
     "shell.execute_reply.started": "2025-10-19T01:31:43.709001Z"
    }
   },
   "outputs": [],
   "source": [
    "lecture_pages = generate_lecture_from_json(parsed_pages)"
   ]
  },
  {
   "cell_type": "code",
   "execution_count": 7,
   "id": "1cddce5d-88a2-43d6-9402-6160f7acfe44",
   "metadata": {
    "execution": {
     "iopub.execute_input": "2025-10-19T01:36:54.862137Z",
     "iopub.status.busy": "2025-10-19T01:36:54.861866Z",
     "iopub.status.idle": "2025-10-19T01:36:54.867806Z",
     "shell.execute_reply": "2025-10-19T01:36:54.867096Z",
     "shell.execute_reply.started": "2025-10-19T01:36:54.862117Z"
    }
   },
   "outputs": [
    {
     "name": "stdout",
     "output_type": "stream",
     "text": [
      "Saved lecture to: ../outputs/lecture_script_output.json\n"
     ]
    }
   ],
   "source": [
    "output_file = save_lecture_output(lecture_pages, \"../outputs/lecture_script_output.json\")\n",
    "print(\"Saved lecture to:\", output_file)\n"
   ]
  },
  {
   "cell_type": "code",
   "execution_count": null,
   "id": "a8a5fa22-5eb3-4814-ab7d-c022560058a1",
   "metadata": {},
   "outputs": [],
   "source": []
  }
 ],
 "metadata": {
  "kernelspec": {
   "display_name": "Python 3 (ipykernel)",
   "language": "python",
   "name": "python3"
  },
  "language_info": {
   "codemirror_mode": {
    "name": "ipython",
    "version": 3
   },
   "file_extension": ".py",
   "mimetype": "text/x-python",
   "name": "python",
   "nbconvert_exporter": "python",
   "pygments_lexer": "ipython3",
   "version": "3.12.9"
  }
 },
 "nbformat": 4,
 "nbformat_minor": 5
}
