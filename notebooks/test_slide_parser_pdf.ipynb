{
 "cells": [
  {
   "cell_type": "code",
   "execution_count": 1,
   "id": "59e62fea-0331-4f00-bdd5-ff89abe03d32",
   "metadata": {
    "execution": {
     "iopub.execute_input": "2025-10-18T22:29:05.902258Z",
     "iopub.status.busy": "2025-10-18T22:29:05.901907Z",
     "iopub.status.idle": "2025-10-18T22:29:05.905983Z",
     "shell.execute_reply": "2025-10-18T22:29:05.905301Z",
     "shell.execute_reply.started": "2025-10-18T22:29:05.902237Z"
    }
   },
   "outputs": [],
   "source": [
    "import sys\n",
    "import os"
   ]
  },
  {
   "cell_type": "code",
   "execution_count": 2,
   "id": "ce163baa-7a70-4539-b5bf-e8bde7dc9333",
   "metadata": {
    "execution": {
     "iopub.execute_input": "2025-10-18T22:29:05.907259Z",
     "iopub.status.busy": "2025-10-18T22:29:05.906846Z",
     "iopub.status.idle": "2025-10-18T22:29:06.034182Z",
     "shell.execute_reply": "2025-10-18T22:29:06.033472Z",
     "shell.execute_reply.started": "2025-10-18T22:29:05.907237Z"
    }
   },
   "outputs": [],
   "source": [
    "# Add project root to sys.path so we can import backend modules\n",
    "project_root = os.path.abspath(\"..\")\n",
    "if project_root not in sys.path:\n",
    "    sys.path.append(project_root)\n",
    "\n",
    "from backend.services.slide_parser import parse_file, save_parsed_output"
   ]
  },
  {
   "cell_type": "code",
   "execution_count": 3,
   "id": "30f8e948-b136-4abd-aab7-7a99a2215e10",
   "metadata": {
    "execution": {
     "iopub.execute_input": "2025-10-18T22:29:06.997125Z",
     "iopub.status.busy": "2025-10-18T22:29:06.996852Z",
     "iopub.status.idle": "2025-10-18T22:29:07.053995Z",
     "shell.execute_reply": "2025-10-18T22:29:07.052984Z",
     "shell.execute_reply.started": "2025-10-18T22:29:06.997104Z"
    }
   },
   "outputs": [],
   "source": [
    "# Test a sample file\n",
    "sample_file = os.path.join(project_root, \"data/sample_slides_cse332.pptx\")\n",
    "parsed_data = parse_file(sample_file)"
   ]
  },
  {
   "cell_type": "code",
   "execution_count": 4,
   "id": "22094ea6-26b2-4b9c-8fa4-8685c7a0e8f6",
   "metadata": {
    "execution": {
     "iopub.execute_input": "2025-10-18T22:29:07.666553Z",
     "iopub.status.busy": "2025-10-18T22:29:07.666182Z",
     "iopub.status.idle": "2025-10-18T22:29:07.671464Z",
     "shell.execute_reply": "2025-10-18T22:29:07.670524Z",
     "shell.execute_reply.started": "2025-10-18T22:29:07.666529Z"
    }
   },
   "outputs": [
    {
     "name": "stdout",
     "output_type": "stream",
     "text": [
      "Slide 1 content:\n",
      "CSE 332: Data Structures & Parallelism Lecture 6: Amortization\n",
      "Ruth Anderson Autumn 2025\n",
      "10/03/2025\n",
      "10\n",
      "---\n",
      "Slide 2 content:\n",
      "10/03/2025\n",
      "10\n",
      "Administrative\n",
      "EX0 – Closes tonight\n",
      "EX01 – Due TONIGHT, Monday 10/06\n",
      "EX02 – On Priority Queues, Due Friday Oct 10\n",
      "EX03 – On Recurrences, coming soon!\n",
      "“Meet the Staff” activity\n",
      "Sometime during the first 4 weeks of class, visit a CSE 332 office \thour (in person or on zoom)\n",
      "Lecture MegaThread in Ed Discussion\n",
      "---\n",
      "Slide 3 content:\n",
      "10/03/2025\n",
      "10\n",
      "Today\n",
      "Finish Binary Min Heap implementation (Slides from Friday)\n",
      "Buildheap\n",
      "Amortization\n",
      " Recurrences\n",
      "---\n",
      "Slide 4 content:\n",
      "10/03/2025\n",
      "10\n",
      "Amortization\n",
      "How much does housing cost per day in Seattle?\n",
      "Well, it depends on the day.\n",
      "\n",
      "The day rent is due, it’s $1800.\n",
      "The other days of the month it’s free.\n",
      "---\n",
      "Slide 5 content:\n",
      "10/03/2025\n",
      "10\n",
      "Amortization\n",
      "Amortization is an accounting analysis. It’s a way to reflect the fact \tthat even though the “first of the month” is very expensive, the \treason that it’s very expensive is that it’s taking on responsibility for \tall the other days.\n",
      "If we distributed the cost equally across the days, (because all days\n",
      "should be equally responsible), we “amortize” the cost.\n",
      "---\n",
      "Slide 6 content:\n",
      "Amortization\n",
      "30\n",
      "10/03/2025\n",
      "10\n",
      "AMORTIZED\n",
      "It costs $1800/month (which we \tpay once)\n",
      "So the cost per day is 1800 = 60.\n",
      "\n",
      "Good answer if the question is \t“what does my daily pay need to \tbe to afford housing?“\n",
      "UNAMORTIZED\n",
      "On the first it costs $1800.\n",
      "Every other day of the month it \tcosts $0\n",
      "\n",
      "Good answer if the question is \t“how much do I need to keep in \tmy bank account so it doesn’t get \toverdrawn?”\n",
      "---\n",
      "Slide 7 content:\n",
      "10/03/2025\n",
      "10\n",
      "Amortization\n",
      "What’s the worst case for enqueue into an array-based queue?\n",
      "The running time is 𝑂(𝑛) when we need to resize, and 𝑂(1) otherwise.\n",
      "Is 𝑂(𝑛) a good description of the worst-case behavior?\n",
      "\n",
      "Imagine you said:\n",
      "“In the worst-case, rent costs $1800 per day. There are 30 days this month, so I need to set aside 30 ⋅ 1800 = $54,000 in my budget; that’s the worst- case for the month”\n",
      "Or you said on Apr. 30, “rent costs $60/day, it’s fine that I have only $70 in my bank account”\n",
      "Both of these are silly!\n",
      "---\n",
      "Slide 8 content:\n",
      "Amortization\n",
      "AMORTIZED\n",
      "It takes 𝑂(𝑛) time to resize once, \tthe next 𝑛 − 1 calls take 𝑂(1) \ttime each.\n",
      "So the cost per operation is\n",
      "𝑂𝑂 𝑛 +[𝑛−1]𝑂𝑂(1) = 𝑂(1)\n",
      "10/03/2025\n",
      "10\n",
      "𝑛\n",
      "Good answer if the question is \t“what will happen when I do \tmany insertions in a row?“\n",
      "UNAMORTIZED\n",
      "The resize will take 𝑂(𝑛) time. \tThat’s the worst thing that could \thappen.\n",
      "\n",
      "Good answer if the question is \t“how long might one (unlucky) \tuser need to wait on a single \tinsertion?”\n",
      "---\n",
      "Slide 9 content:\n",
      "10/03/2025\n",
      "10\n",
      "Amortization\n",
      "Why do we double? Why not increase the size by 1 each time we fill \tup?\n",
      "---\n",
      "Slide 10 content:\n",
      "10/03/2025\n",
      "10\n",
      "Amortization vs. Average-Case\n",
      "Amortization and “average/best/worst” case are independent properties \t(you can have un-amortized average-case, or amortized worst-case, or un- \tamortized worst-case, or …).\n",
      "Average case asks: “if I selected a possible input on random, how long \twould my code take?” (compare to worst-case: “if I select the worst \tvalue…”)\n",
      "\n",
      "Amortized or not is “do we care about how much our bank account \tchanges on one day or over the entire month?” (do we care about the \trunning time of individual calls or only what happens over a sequence of \tthem?)\n",
      "---\n",
      "Slide 11 content:\n",
      "Why use (or don’t use) amortized analysis?\n",
      "The appropriate analysis depends on your situation (and often it’s worth \tknowing both).\n",
      "A common use of data structures is as part of an algorithm.\n",
      "E.g., I’m trying to process everything in a data set, I insert everything into the data \tstructure, remove them one at a time.\n",
      "In that case, we almost always want amortized analysis (we care about when the \tfull analysis is done, not when we go from 49% done to 50% done).\n",
      "But sometimes you care about individual calls\n",
      "Your data structure is feeding another process that the user is watching in real- \ttime.\n",
      "---\n",
      "Slide 12 content:\n",
      "Reminder: 𝑂, Ω, Θ vs. Best, Worst, Average\n",
      "It’s a common misconception that Ω() is “best-case” and 𝑂() is \t“worst-case”. This is a misconception!!\n",
      "𝑂() says “the complexity of this algorithm is at most” (think ≤)\n",
      "Ω() says “the complexity of this algorithm is at least” (think ≥)\n",
      "You can use ≤ on worst-case or best case; you can use ≥ on worst- \tcase or best-case.\n",
      "Best/Worst/Average say “what function 𝑓 am I analyzing?”\n",
      "𝑂, Ω, Θ say “let me summarize what I know about 𝑓, it’s ≤, ≥, =…”\n",
      "12\n",
      "---\n"
     ]
    }
   ],
   "source": [
    "# Preview parsed slides\n",
    "for page in parsed_data:\n",
    "    print(f\"Slide {page['page_number']} content:\\n{page['content']}\\n---\")"
   ]
  },
  {
   "cell_type": "code",
   "execution_count": 5,
   "id": "072b3536-fdc9-41b0-bb82-6203eee747ab",
   "metadata": {
    "execution": {
     "iopub.execute_input": "2025-10-18T22:29:09.552977Z",
     "iopub.status.busy": "2025-10-18T22:29:09.552702Z",
     "iopub.status.idle": "2025-10-18T22:29:09.557592Z",
     "shell.execute_reply": "2025-10-18T22:29:09.556591Z",
     "shell.execute_reply.started": "2025-10-18T22:29:09.552956Z"
    }
   },
   "outputs": [
    {
     "name": "stdout",
     "output_type": "stream",
     "text": [
      "Saved parsed data to: /home/sagemaker-user/bedtime-lecturer/outputs/sample_slides_pdf_parsed.json\n"
     ]
    }
   ],
   "source": [
    "# Save output as JSON\n",
    "output_file = os.path.join(project_root, \"outputs/sample_slides_pdf_parsed.json\")\n",
    "save_parsed_output(parsed_data, output_file)\n",
    "print(f\"Saved parsed data to: {output_file}\")"
   ]
  },
  {
   "cell_type": "code",
   "execution_count": null,
   "id": "ea395a48-5446-4c46-a381-2486a91d5abd",
   "metadata": {},
   "outputs": [],
   "source": []
  }
 ],
 "metadata": {
  "kernelspec": {
   "display_name": "Python 3 (ipykernel)",
   "language": "python",
   "name": "python3"
  },
  "language_info": {
   "codemirror_mode": {
    "name": "ipython",
    "version": 3
   },
   "file_extension": ".py",
   "mimetype": "text/x-python",
   "name": "python",
   "nbconvert_exporter": "python",
   "pygments_lexer": "ipython3",
   "version": "3.12.9"
  }
 },
 "nbformat": 4,
 "nbformat_minor": 5
}
